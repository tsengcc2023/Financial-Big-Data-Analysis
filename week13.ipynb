{
  "nbformat": 4,
  "nbformat_minor": 0,
  "metadata": {
    "colab": {
      "provenance": [],
      "gpuType": "T4",
      "authorship_tag": "ABX9TyNduOBWIcYsT38vkbtuN79p",
      "include_colab_link": true
    },
    "kernelspec": {
      "name": "python3",
      "display_name": "Python 3"
    },
    "language_info": {
      "name": "python"
    },
    "accelerator": "GPU"
  },
  "cells": [
    {
      "cell_type": "markdown",
      "metadata": {
        "id": "view-in-github",
        "colab_type": "text"
      },
      "source": [
        "<a href=\"https://colab.research.google.com/github/tsengcc2023/Financial-Big-Data-Analysis/blob/main/week13.ipynb\" target=\"_parent\"><img src=\"https://colab.research.google.com/assets/colab-badge.svg\" alt=\"Open In Colab\"/></a>"
      ]
    },
    {
      "cell_type": "code",
      "execution_count": 1,
      "metadata": {
        "id": "8foI0c0NF6Ym"
      },
      "outputs": [],
      "source": [
        "import numpy as np\n",
        "import pandas as pd\n",
        "import random"
      ]
    },
    {
      "cell_type": "code",
      "source": [
        "# 假設的股票數據\n",
        "stocks = ['2330.TW', '2317.TW', '6505.TW', '3008.TW', '1101.TW']\n",
        "expected_returns = np.array([0.15, 0.10, 0.12, 0.08, 0.09])  # 預期年化回報率\n",
        "risks = np.array([0.20, 0.15, 0.25, 0.18, 0.22])  # 年化風險\n",
        "correlation_matrix = np.identity(len(stocks))  # 假設股票間無相關性\n",
        "\n",
        "# 投資總額\n",
        "budget = 1000000\n",
        "\n",
        "# 基因演算法參數\n",
        "population_size = 20  # 染色體數量\n",
        "generations = 50  # 最大代數\n",
        "crossover_rate = 0.8  # 交配率\n",
        "mutation_rate = 0.1  # 突變率\n",
        "\n",
        "# 股票數量\n",
        "num_stocks = len(stocks)"
      ],
      "metadata": {
        "id": "Pfk9L0BIHMVU"
      },
      "execution_count": 2,
      "outputs": []
    },
    {
      "cell_type": "code",
      "source": [
        "def fitness_function(chromosome):\n",
        "    \"\"\"\n",
        "    計算適應值，以回報/風險為目標\n",
        "    \"\"\"\n",
        "    selected_returns = expected_returns[chromosome == 1]\n",
        "    selected_risks = risks[chromosome == 1]\n",
        "\n",
        "    # 若未選擇任何股票，適應值為0\n",
        "    if len(selected_returns) == 0:\n",
        "        return 0\n",
        "\n",
        "    portfolio_return = np.sum(selected_returns)\n",
        "    portfolio_risk = np.sqrt(np.sum(selected_risks ** 2))  # 簡化風險計算\n",
        "\n",
        "    # 假設適應函數為回報率/風險\n",
        "    fitness = portfolio_return / portfolio_risk\n",
        "    return fitness"
      ],
      "metadata": {
        "id": "jmCpPHDIHT1G"
      },
      "execution_count": 3,
      "outputs": []
    },
    {
      "cell_type": "code",
      "source": [
        "def initialize_population(size, num_stocks):\n",
        "    \"\"\"\n",
        "    隨機初始化族群\n",
        "    \"\"\"\n",
        "    return np.random.randint(2, size=(size, num_stocks))\n",
        "\n",
        "# 初始化族群\n",
        "population = initialize_population(population_size, num_stocks)"
      ],
      "metadata": {
        "id": "Vok_yEVDHV2z"
      },
      "execution_count": 4,
      "outputs": []
    },
    {
      "cell_type": "code",
      "source": [
        "def selection(population, fitness_scores):\n",
        "    \"\"\"\n",
        "    根據適應值進行選擇（輪盤選擇法）\n",
        "    \"\"\"\n",
        "    probabilities = fitness_scores / fitness_scores.sum()\n",
        "    selected_indices = np.random.choice(range(len(population)), size=len(population), p=probabilities)\n",
        "    return population[selected_indices]"
      ],
      "metadata": {
        "id": "u4Lns770HXsv"
      },
      "execution_count": 5,
      "outputs": []
    },
    {
      "cell_type": "code",
      "source": [
        "def crossover(parent1, parent2):\n",
        "    \"\"\"\n",
        "    單點交配\n",
        "    \"\"\"\n",
        "    if random.random() < crossover_rate:\n",
        "        point = random.randint(1, num_stocks - 1)\n",
        "        child1 = np.concatenate([parent1[:point], parent2[point:]])\n",
        "        child2 = np.concatenate([parent2[:point], parent1[point:]])\n",
        "        return child1, child2\n",
        "    else:\n",
        "        return parent1, parent2"
      ],
      "metadata": {
        "id": "3uU2_pStHZkV"
      },
      "execution_count": 6,
      "outputs": []
    },
    {
      "cell_type": "code",
      "source": [
        "def mutate(chromosome):\n",
        "    \"\"\"\n",
        "    隨機突變\n",
        "    \"\"\"\n",
        "    for i in range(len(chromosome)):\n",
        "        if random.random() < mutation_rate:\n",
        "            chromosome[i] = 1 - chromosome[i]  # 0變1或1變0\n",
        "    return chromosome"
      ],
      "metadata": {
        "id": "o3QyfdWUHbRA"
      },
      "execution_count": 7,
      "outputs": []
    },
    {
      "cell_type": "code",
      "source": [
        "# 開始演算法\n",
        "best_chromosome = None\n",
        "best_fitness = -np.inf\n",
        "\n",
        "for generation in range(generations):\n",
        "    # 計算適應值\n",
        "    fitness_scores = np.array([fitness_function(chromosome) for chromosome in population])\n",
        "\n",
        "    # 記錄目前最佳解\n",
        "    generation_best_index = np.argmax(fitness_scores)\n",
        "    generation_best_fitness = fitness_scores[generation_best_index]\n",
        "    if generation_best_fitness > best_fitness:\n",
        "        best_fitness = generation_best_fitness\n",
        "        best_chromosome = population[generation_best_index]\n",
        "\n",
        "    print(f\"Generation {generation + 1}: Best Fitness = {generation_best_fitness}\")\n",
        "\n",
        "    # 選擇\n",
        "    population = selection(population, fitness_scores)\n",
        "\n",
        "    # 交配\n",
        "    next_generation = []\n",
        "    for i in range(0, population_size, 2):\n",
        "        parent1 = population[i]\n",
        "        parent2 = population[(i + 1) % population_size]\n",
        "        child1, child2 = crossover(parent1, parent2)\n",
        "        next_generation.append(child1)\n",
        "        next_generation.append(child2)\n",
        "    population = np.array(next_generation)\n",
        "\n",
        "    # 突變\n",
        "    population = np.array([mutate(chromosome) for chromosome in population])"
      ],
      "metadata": {
        "colab": {
          "base_uri": "https://localhost:8080/"
        },
        "id": "fEwiFWasHdCC",
        "outputId": "293fe5a4-232b-4bfc-d7b0-625616cadf0a"
      },
      "execution_count": 8,
      "outputs": [
        {
          "output_type": "stream",
          "name": "stdout",
          "text": [
            "Generation 1: Best Fitness = 1.1046718447845705\n",
            "Generation 2: Best Fitness = 1.190340128278995\n",
            "Generation 3: Best Fitness = 1.190340128278995\n",
            "Generation 4: Best Fitness = 1.190340128278995\n",
            "Generation 5: Best Fitness = 1.190340128278995\n",
            "Generation 6: Best Fitness = 1.190340128278995\n",
            "Generation 7: Best Fitness = 1.190340128278995\n",
            "Generation 8: Best Fitness = 1.1094971607695792\n",
            "Generation 9: Best Fitness = 1.190340128278995\n",
            "Generation 10: Best Fitness = 1.190340128278995\n",
            "Generation 11: Best Fitness = 1.190340128278995\n",
            "Generation 12: Best Fitness = 1.1046718447845705\n",
            "Generation 13: Best Fitness = 1.1342535566956566\n",
            "Generation 14: Best Fitness = 1.1094971607695792\n",
            "Generation 15: Best Fitness = 1.1046718447845705\n",
            "Generation 16: Best Fitness = 1.190340128278995\n",
            "Generation 17: Best Fitness = 1.190340128278995\n",
            "Generation 18: Best Fitness = 1.190340128278995\n",
            "Generation 19: Best Fitness = 1.190340128278995\n",
            "Generation 20: Best Fitness = 1.190340128278995\n",
            "Generation 21: Best Fitness = 1.1342535566956566\n",
            "Generation 22: Best Fitness = 1.1046718447845705\n",
            "Generation 23: Best Fitness = 1.190340128278995\n",
            "Generation 24: Best Fitness = 1.190340128278995\n",
            "Generation 25: Best Fitness = 1.190340128278995\n",
            "Generation 26: Best Fitness = 1.190340128278995\n",
            "Generation 27: Best Fitness = 1.190340128278995\n",
            "Generation 28: Best Fitness = 1.190340128278995\n",
            "Generation 29: Best Fitness = 1.190340128278995\n",
            "Generation 30: Best Fitness = 1.190340128278995\n",
            "Generation 31: Best Fitness = 1.190340128278995\n",
            "Generation 32: Best Fitness = 1.190340128278995\n",
            "Generation 33: Best Fitness = 1.190340128278995\n",
            "Generation 34: Best Fitness = 1.190340128278995\n",
            "Generation 35: Best Fitness = 1.190340128278995\n",
            "Generation 36: Best Fitness = 1.190340128278995\n",
            "Generation 37: Best Fitness = 1.190340128278995\n",
            "Generation 38: Best Fitness = 1.1342535566956566\n",
            "Generation 39: Best Fitness = 1.190340128278995\n",
            "Generation 40: Best Fitness = 1.190340128278995\n",
            "Generation 41: Best Fitness = 1.190340128278995\n",
            "Generation 42: Best Fitness = 1.190340128278995\n",
            "Generation 43: Best Fitness = 1.190340128278995\n",
            "Generation 44: Best Fitness = 1.190340128278995\n",
            "Generation 45: Best Fitness = 1.190340128278995\n",
            "Generation 46: Best Fitness = 1.190340128278995\n",
            "Generation 47: Best Fitness = 1.190340128278995\n",
            "Generation 48: Best Fitness = 1.190340128278995\n",
            "Generation 49: Best Fitness = 1.190340128278995\n",
            "Generation 50: Best Fitness = 1.190340128278995\n"
          ]
        }
      ]
    },
    {
      "cell_type": "code",
      "source": [
        "# 計算最佳結果\n",
        "selected_stocks = [stocks[i] for i in range(num_stocks) if best_chromosome[i] == 1]\n",
        "portfolio_return = np.sum(expected_returns[best_chromosome == 1])\n",
        "portfolio_risk = np.sqrt(np.sum(risks[best_chromosome == 1] ** 2))\n",
        "\n",
        "print(\"\\n最佳投資組合：\", selected_stocks)\n",
        "print(f\"投資組合回報率：{portfolio_return:.2f}\")\n",
        "print(f\"投資組合風險：{portfolio_risk:.2f}\")"
      ],
      "metadata": {
        "colab": {
          "base_uri": "https://localhost:8080/"
        },
        "id": "XQZv-gmfHezA",
        "outputId": "46087e4a-1cac-453f-ae6a-68b0bff01ccc"
      },
      "execution_count": 9,
      "outputs": [
        {
          "output_type": "stream",
          "name": "stdout",
          "text": [
            "\n",
            "最佳投資組合： ['2330.TW', '2317.TW', '6505.TW', '3008.TW', '1101.TW']\n",
            "投資組合回報率：0.54\n",
            "投資組合風險：0.45\n"
          ]
        }
      ]
    },
    {
      "cell_type": "code",
      "source": [],
      "metadata": {
        "id": "3v4VZyrxHhD0"
      },
      "execution_count": null,
      "outputs": []
    }
  ]
}